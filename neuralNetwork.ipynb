{
 "cells": [
  {
   "cell_type": "code",
   "execution_count": 145,
   "id": "ac4e3aff",
   "metadata": {},
   "outputs": [],
   "source": [
    "import numpy as np\n",
    "import scipy.special\n",
    "import matplotlib.pyplot\n",
    "\n",
    "# 시각화가 외부 윈도우가 아닌 현재의 노트북 내에서 보이도록 설정.\n",
    "%matplotlib inline\n",
    "\n",
    "# 신경망 클래스의 정의\n",
    "class NeuralNetwork:\n",
    "    \n",
    "    # 신경망 초기화하기\n",
    "    def __init__(self, _inputNodes, _hiddenNodes, _outputNodes, _learningRate):\n",
    "        '''\n",
    "            하나의 클래스에 신경망의 크기를 전달함으로써 신경망 생성이 가능하며,\n",
    "            마찬가지로 학습률(learning rate)도 전달이 가능하다.\n",
    "        '''\n",
    "        \n",
    "        self.i_nodes = _inputNodes\n",
    "        self.h_nodes = _hiddenNodes\n",
    "        self.o_nodes = _outputNodes\n",
    "        \n",
    "        # --------------------------------------------------------------------------------\n",
    "        \n",
    "        # 신경망에서 가장 중요한 부분이 바로 연결 노드의 가중치이다.\n",
    "        # 가중치는 전파시 전달되는 신호와 역전파 시 오차를 계산하는 데 쓰이며, \n",
    "        # 이를 통해 신경망을 개선하는 역할을 수행한다.\n",
    "\n",
    "        # 가중치는 행렬로 간결하게 표현될 수 있다.\n",
    "        # 각각의 가중치는 임의의 작은 값으로 초기화 한다.\n",
    "\n",
    "        # 1. (은닉 노드 x 입력 노드)의 크기를 갖는 입력 계층과 은닉 계층 사이의 가중치의 행렬\n",
    "        # W(input_hidden)\n",
    "        \n",
    "        # 2. (출력노드 x 은닉 노드)의 크기를 갖는 은닉 계층과 출력 계층 사이의 가중치의 행렬\n",
    "        # W(hidden_output)\n",
    "\n",
    "        # numpy를 이용해서 0과 1 사이의 임의로 선택한 값을 원소로 가지는 행렬을 생성.\n",
    "        # 이 행렬의 크기는 (행 x 열)\n",
    "\n",
    "        # input -> hidden\n",
    "        # self.wih = (np.random.rand(self.h_nodes, self.i_nodes) - 0.5)\n",
    "\n",
    "        # hidden -> output\n",
    "        # self.who = (np.random.rand(self.o_nodes, self.h_nodes) - 0.5)\n",
    "        \n",
    "        # --------------------------------------------------------------------------------\n",
    "        \n",
    "        # 가중치를 임의의 값으로 초기화하는 더 정교한 방법이 있음.\n",
    "        # 이 경우, 가중치는 0을 중심으로 하여 1/sqrt(들어오는 연결 노드의 개수)의 표준 편차를 갖는\n",
    "        # 정규분포에 따라 구하도록 한다.\n",
    "        # numpy의 numpy.random.normal() 함수를 활용하면 이를 쉽게 구현할 수 있다.\n",
    "        # 이 변수에 필요한 매개변수는 정규분포의 중심, 표준편차, numpy 행렬이다.\n",
    "        \n",
    "        # input -> hidden\n",
    "        # Python에서 노드로 들어오는 연결 노드의 개수에 루트를 씌우고 역수를 취한 표준편차는 파이썬의 문법으로 아래와 같이 표현됨.\n",
    "        # 1. 정규분포의 중심은 0.0\n",
    "        # 2. 표준편차\n",
    "        # 3. 우리가 원하는 numpy 행렬\n",
    "        self.wih = np.random.normal(0.0, pow(self.i_nodes, -0.5), (self.h_nodes, self.i_nodes))\n",
    "        self.who = np.random.normal(0.0, pow(self.h_nodes, -0.5), (self.o_nodes, self.h_nodes))\n",
    "        \n",
    "        # --------------------------------------------------------------------------------\n",
    "        \n",
    "        # 학습률(learning rate)\n",
    "        self.lr = _learningRate\n",
    "        \n",
    "        # --------------------------------------------------------------------------------\n",
    "\n",
    "        # 활성화 함수\n",
    "        # 활성화 함수에 약간의 변화를 주거나, 아니면 때로는 다른 활성화 함수로 교체하는 경우가 있을 수 있으므로,\n",
    "        # 활성화 함수를 신경망 객체의 초기화 부분에 정의해 두는 것이 좋다.\n",
    "        \n",
    "        # lambda 함수로 전달받은 인자 x에 대하여 scipy.special.expit(시그모이드 함수)에 x를 넣은 값을 return한다.\n",
    "        # 일종의 anonymous function이며, activation_function에 할당된 것이다.\n",
    "        self.activation_function = lambda x: scipy.special.expit(x) \n",
    "        \n",
    "        # --------------------------------------------------------------------------------\n",
    "        \n",
    "        pass\n",
    "        \n",
    "    # 신경망 학습시키기\n",
    "    def train(self, _inputs_list, _targets_list):\n",
    "        '''\n",
    "            train 함수에는 targets_list라는 매개변수가 있는데,\n",
    "            이 매개변수가 없이는 신경망을 제대로 학습시킬 수 없다.\n",
    "        '''\n",
    "\n",
    "        # 학습에는 두 가지 단계가 있다. \n",
    "        # 1) 첫 번째 단계는 query() 함수와 마찬가지로 출력 값을 계산해내는 단계이다.\n",
    "        # 2) 두 번째 단계는 가중치가 어떻게 업데이트되어야 하는지 알려주기 위해 오차를 역전파 하는 단계이다.\n",
    "        \n",
    "        # 입력 리스트를 2차원의 행렬로 변환\n",
    "        inputs = np.array(_inputs_list, ndmin=2).T # ndmin은 matrix의 차원을 의미함.\n",
    "        targets = np.array(_targets_list, ndmin=2).T # T는 transpose\n",
    "        \n",
    "        # 은닉 계층으로 들어오는 신호를 계산\n",
    "        hidden_inputs = np.dot(self.wih, inputs) # self.wih : input -> hidden의 weight(가중치)\n",
    "        \n",
    "        # 은닉 계층에서 나가는 신호를 계산\n",
    "        # activiation function인 sigmoid를 거쳐서 값을 0~1 사이의 값으로 변환\n",
    "        hidden_outputs = self.activation_function(hidden_inputs) \n",
    "        \n",
    "        # 최종 출력 계층으로 들어오는 신호를 계산\n",
    "        final_inputs = np.dot(self.who, hidden_outputs)\n",
    "        \n",
    "        # 최종 출력 계층에서 나가는 신호를 계산\n",
    "        final_outputs = self.activation_function(final_inputs)\n",
    "        \n",
    "        # --------------------------------------------------------------------------------\n",
    "        # 학습 데이터에 의해 제공되는 실제 값과 우리가 계산한 결과 값 간의 차이를 통해 오차를 계산한다.\n",
    "        # 즉, 오차는 (실제 값 행렬 - 계산 값 행렬)이다.\n",
    "        \n",
    "        # 은닉 계층과 최종 계층 간의 가중치는 output_errors\n",
    "        output_errors = targets - final_outputs\n",
    "        \n",
    "        # 은닉 계층의 오차는 가중치에 의해 나뉜 출력 계층의 오차들을 재조합해 계산\n",
    "        hidden_errors = np.dot(self.who.T, output_errors)\n",
    "        \n",
    "        # 은닉 계층과 출력 계층 간의 가중치 업데이트\n",
    "        self.who += self.lr * np.dot((output_errors * final_outputs * (1.0 - final_outputs)), np.transpose(hidden_outputs))\n",
    "        # self.lr : 학습률. 식의 나머지 부분 전체에 곱해진다.\n",
    "        # final_outputs * (1.0 - final_outputs) : 오차의 다음 계층으로부터의 시그모이드\n",
    "        # np.transpose(hidden_outputs) : 이전 계층으로부터의 결과값을 전치한 것.\n",
    "        \n",
    "        # 입력 계층과 은닉 계층 간의 가중치 업데이트\n",
    "        self.wih += self.lr * np.dot((hidden_errors * hidden_outputs * (1.0 - hidden_outputs)), np.transpose(inputs))\n",
    "    \n",
    "        pass\n",
    "    \n",
    "    # 신경망에 질의하기\n",
    "    def query(self, _inputs_list):\n",
    "        '''\n",
    "            신경망으로 들어오는 입력을 받아 출력을 반환한다.\n",
    "            입력 계층부터 은닉 계층을 거쳐 최종 출력 계층까지 수행한다.\n",
    "            또한, 신호는 은닉 노드와 출력 노드로 전달될 때 가중치 연산과 활성화 함수 적용을 거친다.\n",
    "        '''\n",
    "        \n",
    "        # --------------------------------------------------------------------------------\n",
    "        \n",
    "        # 입력 리스트를 2차원 행렬로 변환\n",
    "        \n",
    "        # 우선 1차원 array로 데이터를 넘기면, np.array를 통해서\n",
    "        # 2차원 matrix로 변환하는 것으로 생각하면 될듯.\n",
    "        inputs = np.array(_inputs_list, ndmin=2).T # 뒤에 붙은 T는 transpose?\n",
    "        \n",
    "        # --------------------------------------------------------------------------------\n",
    "\n",
    "        # 은닉 계층으로 들어오는 신호를 계산\n",
    "        \n",
    "        # numpy의 dot 함수를 통해서 은닉 계층의 각 노드로 들어오는 신호를 계산한다.\n",
    "        # 내적을 이용하면 입력 계층이나 은닉 계층의 노드 수가 달라지더라도 코드를 다시 작성할 필요가 없다.\n",
    "        hidden_inputs = np.dot(self.wih, inputs)\n",
    "        \n",
    "        # --------------------------------------------------------------------------------\n",
    "\n",
    "        # 은닉 계층에서 나가는 신호를 계산\n",
    "        \n",
    "        # 이제 은닉계층으로부터 나오는 신호를 구하려면, 시그모이드 함수를 적용하는 일만 하면 된다.\n",
    "        hidden_outputs = self.activation_function(hidden_inputs)\n",
    "        # activation_function을 거치면, 은닉 계층에서 나가는 신호들은 hidden_outputs에 저장된다.\n",
    "        \n",
    "        # --------------------------------------------------------------------------------\n",
    "\n",
    "        # 최종 출력 계층으로 들어오는 신호를 계산\n",
    "        \n",
    "        final_inputs = np.dot(self.who, hidden_outputs)\n",
    "        \n",
    "        # --------------------------------------------------------------------------------\n",
    "\n",
    "        # 최종 출력 계층에서 나가는 신호를 계산\n",
    "        \n",
    "        final_outputs = self.activation_function(final_inputs)\n",
    "\n",
    "        # --------------------------------------------------------------------------------\n",
    "\n",
    "        return final_outputs\n",
    "\n",
    "        # 이후에 노드의 개수(hidden_layer)가 많아지면 for loop을 돌려서 학습시키는 것인듯?\n",
    "        "
   ]
  },
  {
   "cell_type": "code",
   "execution_count": 146,
   "id": "2adda71b",
   "metadata": {},
   "outputs": [],
   "source": [
    "# 입력, 은닉, 출력 노드의 수\n",
    "input_nodes = 784\n",
    "hidden_nodes = 500\n",
    "output_nodes = 10\n",
    "\n",
    "# 학습률은 0.3으로 정의\n",
    "learning_rate = 0.2\n",
    "\n",
    "# 신경망의 인스턴스를 생성\n",
    "n = NeuralNetwork(_inputNodes=input_nodes, _hiddenNodes=hidden_nodes, _outputNodes=output_nodes, _learningRate=learning_rate)\n",
    "\n",
    "# len(n.data_list)\n",
    "\n",
    "# 학습 데이터 파일 읽기\n",
    "training_data_file = open(\"./mnist_train.csv\", 'r')\n",
    "\n",
    "# 현재 파일의 크기가 그렇게 크지 않으므로, readlines()로 한 번에 데이터를 메모리로 올린다.\n",
    "# 하지만 학습 데이터의 크기가 클 경우, readline()을 이용하여 한 행씩 데이터를 올리는 것이 좋다.\n",
    "training_data_list = training_data_file.readlines()\n",
    "training_data_file.close()\n"
   ]
  },
  {
   "cell_type": "code",
   "execution_count": 147,
   "id": "965eee4e",
   "metadata": {},
   "outputs": [
    {
     "data": {
      "text/plain": [
       "'\\n    np.asfarray를 이용해 문자열을 실수로 변환.\\n    이때, all_values[1:]을 이용해서 첫 번째 원소를 제외한 나머지 값만을 취한다.\\n    이렇게 얻은 값을 28x28의 matrix로 변환한다.\\n'"
      ]
     },
     "execution_count": 147,
     "metadata": {},
     "output_type": "execute_result"
    }
   ],
   "source": [
    "# all_values = n.data_list[0].split(',') # 레이블 분리\n",
    "\n",
    "'''\n",
    "    np.asfarray를 이용해 문자열을 실수로 변환.\n",
    "    이때, all_values[1:]을 이용해서 첫 번째 원소를 제외한 나머지 값만을 취한다.\n",
    "    이렇게 얻은 값을 28x28의 matrix로 변환한다.\n",
    "'''\n",
    "\n",
    "# image_array = np.asfarray(all_values[1:]).reshape((28, 28))\n",
    "# matplotlib.pyplot.imshow(image_array, cmap='Greys', interpolation='None')"
   ]
  },
  {
   "cell_type": "code",
   "execution_count": 148,
   "id": "f8221720",
   "metadata": {},
   "outputs": [
    {
     "data": {
      "text/plain": [
       "'\\n데이터를 학습시킬 때, 입력 데이터와 출력 데이터의 값들이 적절한 형태를 가져\\n활성화 함수의 수용 범위 내에 있게 되면 신경망은 더 잘 동작하게 된다.\\n이에 따라, 색상 값이 0.01 ~ 1.0 사이의 값을 갖도록 만든다.\\n이때 입력 값이 0이 되면 가중치가 사라지게 되므로, 입력의 하한선은 0.01, 상한선은 1.0으로 설정한다.\\n'"
      ]
     },
     "execution_count": 148,
     "metadata": {},
     "output_type": "execute_result"
    }
   ],
   "source": [
    "'''\n",
    "데이터를 학습시킬 때, 입력 데이터와 출력 데이터의 값들이 적절한 형태를 가져\n",
    "활성화 함수의 수용 범위 내에 있게 되면 신경망은 더 잘 동작하게 된다.\n",
    "이에 따라, 색상 값이 0.01 ~ 1.0 사이의 값을 갖도록 만든다.\n",
    "이때 입력 값이 0이 되면 가중치가 사라지게 되므로, 입력의 하한선은 0.01, 상한선은 1.0으로 설정한다.\n",
    "'''\n",
    "\n",
    "# scaled_input = (np.asfarray(all_values[1:]) / 255.0 * 0.99) + 0.01\n",
    "\n",
    "# scaled_input = scaled_input.reshape((28, 28))\n",
    "# print(scaled_input)\n",
    "# matplotlib.pyplot.imshow(scaled_input, cmap='Greys', interpolation='None')"
   ]
  },
  {
   "attachments": {},
   "cell_type": "markdown",
   "id": "7e123944",
   "metadata": {},
   "source": [
    "- - -\n",
    "우리가 Activation Function으로 사용하는 로지스틱 함수는 값의 범위가 0.0 ~ 1.0이다.   \n",
    "이때 0.0과 1.0에는 무한히 접근만 할 뿐, 실제 0.0이나 1.0이 될 수는 없다.   \n",
    "그러므로 학습 시에 우리의 결과 값의 범위를 조정해주어야 한다.   \n",
    "   \n",
    "우리가 신경망의 학습 과정에 바라는 것은 최종적으로 0~9 사이의 숫자를 분류해 내는 것이다.   \n",
    "그러므로, 우리는 0~9를 분류해 낼 10개의 노드가 필요하다. 각 노드는 가능한 결과 값. 즉, 각 레이블에 해당할 것이다.   \n",
    "(활성화 함수는 0.0과 1.0에 점근하기 때문에, 절대로 각 노드들이 0.0이라는 값을 가질 수는 없고, 무한히 가까운 값을 가짐)   \n",
    "   \n",
    "- - - \n",
    "   \n",
    "만약 학습 데이터의 레이블이 5라면, 우리는 결과 값 행렬을 만들 때   \n",
    "5에 상응하는 노드 외에는 작은 값을 갖도록 행렬을 구성할 필요가 있다.   \n",
    "> ex : [0, 0, 0, 0, 0, 1, 0, 0, 0, 0]   \n",
    "   \n",
    "그런데, 앞에서 활성화 함수가 도달할 수 없는 0과 1이라는 값을 사용하게 되면 큰 값의 가중치를 통해 신경망이 포화된다.   \n",
    "그러므로, 값의 범위를 0.01 ~ 0.99 등과 같이 적용하는 것이 좋다.   \n",
    "> ex : [0.01, 0.01, 0.01, 0.01, 0.01, 0.99, 0.01, 0.01, 0.01, 0.01]   \n",
    "- - -\n"
   ]
  },
  {
   "attachments": {},
   "cell_type": "markdown",
   "id": "36e32b9c",
   "metadata": {},
   "source": [
    "# 신경망 학습시키기"
   ]
  },
  {
   "cell_type": "code",
   "execution_count": 149,
   "id": "af9d1ea3",
   "metadata": {},
   "outputs": [],
   "source": [
    "'''\n",
    "    onodes = 10 # 10개의 노드를 가지기 때문에 output node를 10 개 생성\n",
    "    targets = np.zeros(onodes) + 0.01 # 최소 값을 유지하기 위해 값이 모두 0인 1x10의 리스트를 만들고, 최소값 설정 \n",
    "    targets[int(all_values[0])] = 0.99 # 레이블을 떼와서, 해당 레이블에 매칭되는 노드의 값을 0.99로 만들어 준다.\n",
    "'''\n",
    "\n",
    "# 반복 횟수(epoch) 설정\n",
    "epochs = 2\n",
    "\n",
    "for e in range(epochs):\n",
    "    # 학습 데이터에서 한 row를 record라고 함.\n",
    "    for record in training_data_list:\n",
    "        # 레코드를 쉼표에 의해 분리\n",
    "        all_values = record.split(',')\n",
    "        \n",
    "        # 입력 값의 범위와 값 조정\n",
    "        inputs = (np.asfarray(all_values[1:]) / 255.0 * 0.99) + 0.01\n",
    "        \n",
    "        # 결과 값 생성 (실제 값인 0.99 외에는 모두 0.01)\n",
    "        targets = np.zeros(output_nodes) + 0.01\n",
    "        targets[int(all_values[0])] = 0.99\n",
    "        n.train(inputs, targets)\n",
    "        pass\n"
   ]
  },
  {
   "attachments": {},
   "cell_type": "markdown",
   "id": "2f3b3917",
   "metadata": {},
   "source": [
    "### 은닉 노드의 개수 선택   \n",
    "* 현재까지 은닉 노드를 몇 개로 해야 할지 결정하는 데 대한 완벽한 방법론은 존재하지 않는다.   \n",
    "   \n",
    "    그러므로 현재로서 최선의 접근 방법은 우리가 해결해야 하는 문제에서 최적의 설정을 찾을 때까지   \n",
    "    실험을 반복하며 그것을 찾아내는 것이다.   \n"
   ]
  },
  {
   "attachments": {},
   "cell_type": "markdown",
   "id": "4f0bddca",
   "metadata": {},
   "source": [
    "# 학습 결과 확인"
   ]
  },
  {
   "cell_type": "code",
   "execution_count": 150,
   "id": "b4e419ff",
   "metadata": {},
   "outputs": [],
   "source": [
    "test_data_file = open('./mnist_test.csv', 'r')\n",
    "test_data_list = test_data_file.readlines()\n",
    "test_data_file.close()"
   ]
  },
  {
   "cell_type": "code",
   "execution_count": 151,
   "id": "048357bf",
   "metadata": {},
   "outputs": [
    {
     "name": "stdout",
     "output_type": "stream",
     "text": [
      "7\n"
     ]
    }
   ],
   "source": [
    "# get the first test record\n",
    "all_values = test_data_list[0].split(',')\n",
    "\n",
    "# print the label\n",
    "print(all_values[0])"
   ]
  },
  {
   "cell_type": "code",
   "execution_count": 152,
   "id": "1890eb83",
   "metadata": {},
   "outputs": [
    {
     "data": {
      "text/plain": [
       "<matplotlib.image.AxesImage at 0x21698df7250>"
      ]
     },
     "execution_count": 152,
     "metadata": {},
     "output_type": "execute_result"
    },
    {
     "data": {
      "image/png": "[encoded data removed]",
      "text/plain": [
       "<Figure size 640x480 with 1 Axes>"
      ]
     },
     "metadata": {},
     "output_type": "display_data"
    }
   ],
   "source": [
    "image_array = np.asfarray(all_values[1:]).reshape((28, 28))\n",
    "matplotlib.pyplot.imshow(image_array, cmap='Greys', interpolation='None')"
   ]
  },
  {
   "cell_type": "code",
   "execution_count": 153,
   "id": "24c5dfd5",
   "metadata": {},
   "outputs": [
    {
     "data": {
      "text/plain": [
       "array([[0.00686683],\n",
       "       [0.01301052],\n",
       "       [0.01791198],\n",
       "       [0.00221884],\n",
       "       [0.00292211],\n",
       "       [0.00210138],\n",
       "       [0.00420705],\n",
       "       [0.98539431],\n",
       "       [0.006177  ],\n",
       "       [0.00116417]])"
      ]
     },
     "execution_count": 153,
     "metadata": {},
     "output_type": "execute_result"
    }
   ],
   "source": [
    "n.query((np.asfarray(all_values[1:]) / 255.0 * 0.99) + 0.01)"
   ]
  },
  {
   "cell_type": "code",
   "execution_count": 154,
   "id": "ad93d8f6",
   "metadata": {},
   "outputs": [
    {
     "name": "stdout",
     "output_type": "stream",
     "text": [
      "performance =  0.9537\n"
     ]
    }
   ],
   "source": [
    "# 신경망 테스트\n",
    "\n",
    "# 신경망의 성능의 지표가 되는 성적표를 아무 값도 가지지 않도록 초기화\n",
    "scorecard = []\n",
    "\n",
    "# 테스트 데이터 모음 내의 모든 레코드 탐색\n",
    "for record in test_data_list:\n",
    "    # 레코드를 쉼표에 의해 분리\n",
    "    all_values = record.split(',')\n",
    "    \n",
    "    # 정답은 첫 번째 값\n",
    "    correct_label = int(all_values[0])\n",
    "        \n",
    "    # 입력 값의 범위와 값 조정\n",
    "    inputs = (np.asfarray(all_values[1:]) / 255.0 * 0.99) + 0.01\n",
    "    \n",
    "    # 신경망에 질의\n",
    "    outputs = n.query(inputs)\n",
    "    \n",
    "    # 가장 높은 값의 인덱스는 레이블의 인덱스와 일치\n",
    "    label = np.argmax(outputs)\n",
    "    \n",
    "    # print(correct_label, \"correct label\")\n",
    "    # print(label, \"network's answer\")\n",
    "    \n",
    "    # 정답 또는 오답을 리스트에 추가\n",
    "    if (label == correct_label):\n",
    "        # 정답인 경우 성적표에 1을 더함\n",
    "        scorecard.append(1)\n",
    "    else:\n",
    "        # 정답이 아닌 경우 성적표에 0을 더함\n",
    "        scorecard.append(0)\n",
    "        \n",
    "    pass\n",
    "\n",
    "# np.array VS np.asarray\n",
    "# 두 방식은 구조적으로는 모두 동일하나, array는 copy=True인 반면, asarray는 copy=False이다.\n",
    "# 즉, array를 다른 변수에 할당하고 원본을 변경하면 array의 copy 본은 변겨외지 않지만, (deep copy)\n",
    "# asarray의 경우 원본이 변경될 경우 asarray의 복사본까지 변경된다. (shallow copy)\n",
    "\n",
    "scorecard_array = np.asarray(scorecard) # 내부의 값들을 \n",
    "print(\"performance = \", scorecard_array.sum() / scorecard_array.size)"
   ]
  }
 ],
 "metadata": {
  "kernelspec": {
   "display_name": "Python 3 (ipykernel)",
   "language": "python",
   "name": "python3"
  },
  "language_info": {
   "codemirror_mode": {
    "name": "ipython",
    "version": 3
   },
   "file_extension": ".py",
   "mimetype": "text/x-python",
   "name": "python",
   "nbconvert_exporter": "python",
   "pygments_lexer": "ipython3",
   "version": "3.9.13"
  }
 },
 "nbformat": 4,
 "nbformat_minor": 5
}
